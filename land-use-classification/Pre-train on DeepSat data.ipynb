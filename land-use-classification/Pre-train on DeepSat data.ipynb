{
 "cells": [
  {
   "cell_type": "code",
   "execution_count": 1,
   "metadata": {},
   "outputs": [
    {
     "name": "stderr",
     "output_type": "stream",
     "text": [
      "C:\\Users\\roykl\\Anaconda3\\lib\\site-packages\\h5py\\__init__.py:36: FutureWarning: Conversion of the second argument of issubdtype from `float` to `np.floating` is deprecated. In future, it will be treated as `np.float64 == np.dtype(float).type`.\n",
      "  from ._conv import register_converters as _register_converters\n"
     ]
    }
   ],
   "source": [
    "# Import several packages that will be used throughout\n",
    "\n",
    "# numeric packages\n",
    "import numpy as np\n",
    "import scipy\n",
    "import scipy.io\n",
    "import pandas as pd\n",
    "import h5py\n",
    "\n",
    "# filesystem and OS\n",
    "import sys, os, time\n",
    "import glob\n",
    "\n",
    "# plotting\n",
    "from matplotlib import pyplot as plt\n",
    "%matplotlib inline\n",
    "import seaborn as sns\n",
    "sns.set_style(\"whitegrid\", {'axes.grid' : False})\n",
    "from IPython.display import clear_output\n",
    "\n",
    "import warnings\n",
    "warnings.filterwarnings('ignore')\n",
    "\n",
    "# these magics ensure that external modules that are modified are also automatically reloaded\n",
    "%load_ext autoreload\n",
    "%autoreload 2"
   ]
  },
  {
   "cell_type": "code",
   "execution_count": 2,
   "metadata": {},
   "outputs": [
    {
     "name": "stderr",
     "output_type": "stream",
     "text": [
      "Using TensorFlow backend.\n"
     ]
    }
   ],
   "source": [
    "import keras\n",
    "import tensorflow as tf"
   ]
  },
  {
   "cell_type": "code",
   "execution_count": 3,
   "metadata": {},
   "outputs": [],
   "source": [
    "sys.path.append(\"../classifier/keras-utils/\")\n",
    "sys.path.append(\"../classifier/keras-models/\")\n",
    "\n",
    "from multi_gpu import make_parallel\n",
    "import keras_utils as ku\n",
    "# from vgg16 import vgg16"
   ]
  },
  {
   "cell_type": "code",
   "execution_count": 4,
   "metadata": {},
   "outputs": [
    {
     "ename": "FileNotFoundError",
     "evalue": "[WinError 2] The system cannot find the file specified: '/home/adalbert/nbserver/tf-workspace/deepsat-experiments/'",
     "output_type": "error",
     "traceback": [
      "\u001b[1;31m---------------------------------------------------------------------------\u001b[0m",
      "\u001b[1;31mFileNotFoundError\u001b[0m                         Traceback (most recent call last)",
      "\u001b[1;32m<ipython-input-4-b16e5e61817c>\u001b[0m in \u001b[0;36m<module>\u001b[1;34m()\u001b[0m\n\u001b[0;32m      1\u001b[0m \u001b[0mworkdir\u001b[0m \u001b[1;33m=\u001b[0m \u001b[1;34m\"/home/adalbert/nbserver/tf-workspace/deepsat-experiments/\"\u001b[0m\u001b[1;33m\u001b[0m\u001b[0m\n\u001b[1;32m----> 2\u001b[1;33m \u001b[0mos\u001b[0m\u001b[1;33m.\u001b[0m\u001b[0mchdir\u001b[0m\u001b[1;33m(\u001b[0m\u001b[0mworkdir\u001b[0m\u001b[1;33m)\u001b[0m\u001b[1;33m\u001b[0m\u001b[0m\n\u001b[0m",
      "\u001b[1;31mFileNotFoundError\u001b[0m: [WinError 2] The system cannot find the file specified: '/home/adalbert/nbserver/tf-workspace/deepsat-experiments/'"
     ]
    }
   ],
   "source": [
    "workdir = \"/home/adalbert/nbserver/tf-workspace/deepsat-experiments/\"\n",
    "os.chdir(workdir)"
   ]
  },
  {
   "cell_type": "markdown",
   "metadata": {},
   "source": [
    "# Import data and set up batching "
   ]
  },
  {
   "cell_type": "markdown",
   "metadata": {},
   "source": [
    "### Set up batching"
   ]
  },
  {
   "cell_type": "code",
   "execution_count": 5,
   "metadata": {},
   "outputs": [],
   "source": [
    "BATCH_SIZE = 100\n",
    "\n",
    "train_dir = \"../deepsat-data/img/train/\"\n",
    "test_dir = \"../deepsat-data/img/test/\""
   ]
  },
  {
   "cell_type": "code",
   "execution_count": 7,
   "metadata": {},
   "outputs": [
    {
     "name": "stdout",
     "output_type": "stream",
     "text": [
      "Found 324000 images belonging to 6 classes.\n",
      "Found 81000 images belonging to 6 classes.\n"
     ]
    }
   ],
   "source": [
    "# Generator for preprocessing images for data augmentation\n",
    "\n",
    "from keras.preprocessing.image import ImageDataGenerator\n",
    "\n",
    "def apply_mean(image_data_generator):\n",
    "    \"\"\"Subtracts the VGG dataset mean\"\"\"\n",
    "    image_data_generator.mean = np.array([123.68, 116.779, 103.939], dtype=np.float32).reshape((3, 1, 1))\n",
    "\n",
    "# this is the augmentation configuration we will use for training\n",
    "train_datagen = ImageDataGenerator(\n",
    "        rescale=1./255,\n",
    "        shear_range=0.1,\n",
    "        zoom_range=[1,1.2],\n",
    "        vertical_flip=True,\n",
    "        rotation_range=15,\n",
    "        horizontal_flip=True)\n",
    "apply_mean(train_datagen)\n",
    "\n",
    "\n",
    "# this is the augmentation configuration we will use for testing:\n",
    "# only rescaling\n",
    "test_datagen = ImageDataGenerator(rescale=1./255)\n",
    "apply_mean(test_datagen)\n",
    "\n",
    "train_generator = train_datagen.flow_from_directory(train_dir, \\\n",
    "                                         batch_size=BATCH_SIZE,\n",
    "                                         target_size=(224,224),\n",
    "                                         shuffle=True)\n",
    "    \n",
    "# this is a similar generator, for validation data\n",
    "test_generator = test_datagen.flow_from_directory(test_dir, \\\n",
    "                                         batch_size=BATCH_SIZE,\n",
    "                                         target_size=(224,224),\n",
    "                                         shuffle=True)\n",
    "\n",
    "# get class labels\n",
    "class2ind = train_generator.class_indices\n",
    "ind2class = {v:k for k,v in class2ind.items()}\n",
    "\n",
    "N_CLASSES = len(ind2class)"
   ]
  },
  {
   "cell_type": "code",
   "execution_count": 9,
   "metadata": {},
   "outputs": [
    {
     "name": "stdout",
     "output_type": "stream",
     "text": [
      "(100, 224, 224, 3) (100, 6) 0.0 0.9883987\n"
     ]
    }
   ],
   "source": [
    "for Xbatch, ybatch in train_generator:\n",
    "    print(Xbatch.shape, ybatch.shape, Xbatch.min(), Xbatch.max())\n",
    "    break"
   ]
  },
  {
   "cell_type": "markdown",
   "metadata": {},
   "source": [
    "# Define architectures to use\n",
    "Load weights from model pretrained on ImageNet"
   ]
  },
  {
   "cell_type": "markdown",
   "metadata": {},
   "source": [
    "#### VGG-16, pre-trained on ImageNet\n",
    "Note that the weights are trained on BGR data for this architecture (probably following Caffe's convention). It turns out that they're a good enough starting point even if using RGB images."
   ]
  },
  {
   "cell_type": "code",
   "execution_count": null,
   "metadata": {
    "scrolled": false
   },
   "outputs": [],
   "source": [
    "# build the convolutional base of the VGG16 network\n",
    "model = vgg16(n_classes=N_CLASSES, input_shape=(224,224,3), fcn=False)\n",
    "\n",
    "weights_file = \"../vgg16_weights.h5\"\n",
    "model = ku.load_weights_into_model(model, weights_file, transpose_conv=True, \n",
    "                        layers_to_skip=[\"dense8\"])\n",
    "\n",
    "freeze_layers = [] #['conv1', 'conv2']\n",
    "for l in model.layers:\n",
    "    l.trainable = len([x for x in freeze_layers if x in l.name])==0 and \\\n",
    "                    len(l.get_weights())>0\n",
    "\n",
    "for l in model.layers:\n",
    "    print l.name, [x.sum() for x in l.get_weights()], l.trainable"
   ]
  },
  {
   "cell_type": "markdown",
   "metadata": {},
   "source": [
    "#### ResNet initialized with ImageNet weights"
   ]
  },
  {
   "cell_type": "code",
   "execution_count": 22,
   "metadata": {},
   "outputs": [],
   "source": [
    "sys.path.append(\"../deep-learning-models/\")\n",
    "\n",
    "from keras.layers import Flatten, Dense\n",
    "from keras.models import Model\n",
    "from keras.applications.resnet50 import ResNet50\n",
    "from keras.preprocessing import image\n",
    "from imagenet_utils import preprocess_input, decode_predictions\n",
    "\n",
    "model = ResNet50(weights='imagenet', include_top=True)\n",
    "\n",
    "model.layers.pop() # Get rid of the classification layer\n",
    "model.outputs = [model.layers[-1].output]\n",
    "model.output_layers = [model.layers[-1]] # added this line in addition to zo7 solution\n",
    "model.layers[-1].outbound_nodes = []\n",
    "\n",
    "newClassificationLayer = Dense(N_CLASSES, activation='softmax')(model.layers[-1].output)\n",
    "model = Model(input=model.input, output=newClassificationLayer)\n"
   ]
  },
  {
   "cell_type": "markdown",
   "metadata": {},
   "source": [
    "#### Load previously-saved model"
   ]
  },
  {
   "cell_type": "code",
   "execution_count": null,
   "metadata": {
    "collapsed": true
   },
   "outputs": [],
   "source": [
    "# # load model from checkpoint\n",
    "# model_file = \"vgg16-deepsat-best-checkpoint.h5\"\n",
    "\n",
    "# # with tf.device('/cpu:0'):\n",
    "# # load model and weights\n",
    "# model = keras.models.load_model(model_file)"
   ]
  },
  {
   "cell_type": "markdown",
   "metadata": {},
   "source": [
    "Spread model computation on multiple GPUs"
   ]
  },
  {
   "cell_type": "code",
   "execution_count": null,
   "metadata": {
    "scrolled": false
   },
   "outputs": [],
   "source": [
    "GPUS = [0,1,2,3]\n",
    "\n",
    "# this uses the TensorFlow backend to spread computation on multiple GPUs\n",
    "model_gpu = make_parallel(model, GPUS)"
   ]
  },
  {
   "cell_type": "code",
   "execution_count": null,
   "metadata": {},
   "outputs": [],
   "source": [
    "tf.__version__, keras.__version__"
   ]
  },
  {
   "cell_type": "markdown",
   "metadata": {},
   "source": [
    "# Fine-tune model"
   ]
  },
  {
   "cell_type": "markdown",
   "metadata": {
    "collapsed": true
   },
   "source": [
    "Define model behavior with callbacks and compile"
   ]
  },
  {
   "cell_type": "code",
   "execution_count": null,
   "metadata": {
    "collapsed": true
   },
   "outputs": [],
   "source": [
    "from keras.callbacks import ModelCheckpoint\n",
    "\n",
    "# callback for a custom learning rate decay schedule\n",
    "\n",
    "LR_DECAY_PER_EPOCH = 2.0 #1.1\n",
    "BASE_LR = 1\n",
    "\n",
    "lr_scheduler = lambda epoch: BASE_LR * LR_DECAY_PER_EPOCH**(-(epoch/10))\n",
    "lr_decay_callback = keras.callbacks.LearningRateScheduler(lr_scheduler)\n",
    "\n",
    "# callback to checkpoint best model\n",
    "model_checkpoint_callback = ModelCheckpoint(\"resnet-deepsat-imagenet-best-checkpoint.h5\", monitor='val_acc', \\\n",
    "                                      verbose=1, save_best_only=True, mode='max')\n",
    "\n",
    "# compile model\n",
    "from keras.optimizers import SGD, RMSprop, Adadelta, Adagrad, Adam\n",
    "model_gpu.compile(loss='categorical_crossentropy', \\\n",
    "              metrics=['accuracy'],\\\n",
    "              optimizer=Adadelta(lr=BASE_LR))"
   ]
  },
  {
   "cell_type": "markdown",
   "metadata": {},
   "source": [
    "Compile and train model"
   ]
  },
  {
   "cell_type": "code",
   "execution_count": null,
   "metadata": {
    "scrolled": true
   },
   "outputs": [],
   "source": [
    "# Logs to TensorBoard, new one for each run\n",
    "\n",
    "log_path_tensorboard = \"./logs/\"\n",
    "\n",
    "from keras.callbacks import TensorBoard\n",
    "import time\n",
    "\n",
    "now = time.strftime(\"%c\")\n",
    "tensorboard_callback_fn = TensorBoard(log_dir=log_path_tensorboard + now, \\\n",
    "                                histogram_freq=1, \\\n",
    "                                write_graph=True, \\\n",
    "                                write_images=False)\n",
    "\n",
    "# Train model\n",
    "\n",
    "history = model_gpu.fit_generator(\n",
    "            train_generator,\n",
    "            samples_per_epoch=2000,\n",
    "            nb_epoch=50,\n",
    "            validation_data=test_generator,\n",
    "            callbacks = [tensorboard_callback_fn, lr_decay_callback, \\\n",
    "                         model_checkpoint_callback],\n",
    "            nb_val_samples=1000)"
   ]
  },
  {
   "cell_type": "code",
   "execution_count": null,
   "metadata": {},
   "outputs": [],
   "source": [
    "fig, ax = plt.subplots(1,2, figsize=(12,4))\n",
    "ax[0].plot(history.history['loss'], label=\"train\")\n",
    "ax[0].plot(history.history['val_loss'], label=\"test\")\n",
    "ax[0].set_title(\"Loss\", fontsize=14)\n",
    "ax[0].set_xlabel(\"Epoch\")\n",
    "ax[0].legend(loc=\"best\")\n",
    "ax[1].plot(history.history['acc'], label=\"train\")\n",
    "ax[1].plot(history.history['val_acc'], label=\"test\")\n",
    "ax[1].set_title(\"Accuracy\", fontsize=14)\n",
    "ax[1].set_xlabel(\"Epoch\")\n",
    "ax[1].legend(loc=\"best\")\n",
    "plt.show()"
   ]
  },
  {
   "cell_type": "code",
   "execution_count": null,
   "metadata": {},
   "outputs": [],
   "source": [
    "tf.__version__"
   ]
  },
  {
   "cell_type": "code",
   "execution_count": null,
   "metadata": {
    "collapsed": true
   },
   "outputs": [],
   "source": []
  }
 ],
 "metadata": {
  "kernelspec": {
   "display_name": "Python 3",
   "language": "python",
   "name": "python3"
  },
  "language_info": {
   "codemirror_mode": {
    "name": "ipython",
    "version": 3
   },
   "file_extension": ".py",
   "mimetype": "text/x-python",
   "name": "python",
   "nbconvert_exporter": "python",
   "pygments_lexer": "ipython3",
   "version": "3.6.4"
  }
 },
 "nbformat": 4,
 "nbformat_minor": 2
}
