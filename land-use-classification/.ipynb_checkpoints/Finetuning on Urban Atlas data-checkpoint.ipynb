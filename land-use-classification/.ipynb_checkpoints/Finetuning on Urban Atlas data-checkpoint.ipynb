{
 "cells": [
  {
   "cell_type": "code",
   "execution_count": 1,
   "metadata": {},
   "outputs": [
    {
     "name": "stderr",
     "output_type": "stream",
     "text": [
      "C:\\Users\\roykl\\Anaconda3\\lib\\site-packages\\h5py\\__init__.py:36: FutureWarning: Conversion of the second argument of issubdtype from `float` to `np.floating` is deprecated. In future, it will be treated as `np.float64 == np.dtype(float).type`.\n",
      "  from ._conv import register_converters as _register_converters\n",
      "Using TensorFlow backend.\n"
     ]
    }
   ],
   "source": [
    "# Import several packages that will be used throughout\n",
    "\n",
    "# numeric packages\n",
    "import numpy as np\n",
    "import scipy\n",
    "import scipy.io\n",
    "import pandas as pd\n",
    "\n",
    "import h5py\n",
    "import _pickle as pickle\n",
    "import gzip\n",
    "\n",
    "# filesystem and OS\n",
    "import sys, os, time\n",
    "import glob\n",
    "\n",
    "# plotting\n",
    "from matplotlib import pyplot as plt\n",
    "%matplotlib inline\n",
    "import seaborn as sns\n",
    "sns.set_style(\"whitegrid\", {'axes.grid' : False})\n",
    "from IPython.display import clear_output\n",
    "\n",
    "import warnings\n",
    "warnings.filterwarnings('ignore')\n",
    "\n",
    "import keras\n",
    "from keras import backend as K\n",
    "\n",
    "sys.path.append(\"../classifier/keras-utils/\")\n",
    "sys.path.append(\"../classifier/keras-models/\")\n",
    "import keras_utils as ku\n",
    "from multi_gpu import make_parallel\n",
    "\n",
    "# these magics ensure that external modules that are modified are also automatically reloaded\n",
    "%load_ext autoreload\n",
    "%autoreload 2"
   ]
  },
  {
   "cell_type": "code",
   "execution_count": 3,
   "metadata": {
    "scrolled": true
   },
   "outputs": [],
   "source": [
    "# workdir = \"/home/adalbert/nbserver/tf-workspace/urban-atlas-experiments/\"\n",
    "# workdir = \"C:\\Users\\roykl\\Documents\\Stoedie\\Deep Learning\\Project\\urban-environments\"\n",
    "workdir = \"C:/Users/roykl/Documents/Stoedie/Deep Learning/Project/urban-environments\"\n",
    "\n",
    "\n",
    "if not os.path.exists(workdir):\n",
    "    os.makedirs(workdir)\n",
    "    \n",
    "os.chdir(workdir)"
   ]
  },
  {
   "cell_type": "code",
   "execution_count": 2,
   "metadata": {
    "scrolled": true
   },
   "outputs": [
    {
     "name": "stdout",
     "output_type": "stream",
     "text": [
      "20\n"
     ]
    }
   ],
   "source": [
    "all_classes = '''Agricultural + Semi-natural areas + Wetlands\n",
    "Airports\n",
    "Construction sites\n",
    "Continuous Urban Fabric (S.L. > 80%)\n",
    "Discontinuous Dense Urban Fabric (S.L. : 50% -  80%)\n",
    "Discontinuous Low Density Urban Fabric (S.L. : 10% - 30%)\n",
    "Discontinuous Medium Density Urban Fabric (S.L. : 30% - 50%)\n",
    "Discontinuous Very Low Density Urban Fabric (S.L. < 10%)\n",
    "Fast transit roads and associated land\n",
    "Forests\n",
    "Green urban areas\n",
    "Industrial, commercial, public, military and private units\n",
    "Isolated Structures\n",
    "Land without current use\n",
    "Mineral extraction and dump sites\n",
    "Other roads and associated land\n",
    "Port areas\n",
    "Railways and associated land\n",
    "Sports and leisure facilities\n",
    "Water bodies'''.split(\"\\n\")\n",
    "\n",
    "classes = all_classes\n",
    "print(len(classes))\n",
    "\n",
    "class2label = {c:i for i,c in enumerate(classes)}\n",
    "label2class = {i:c for i,c in enumerate(classes)}\n",
    "class_weights = {c:1 for c in label2class.keys()}\n",
    "\n",
    "N_CLASSES = len(classes)\n"
   ]
  },
  {
   "cell_type": "markdown",
   "metadata": {},
   "source": [
    "# Set up data sources "
   ]
  },
  {
   "cell_type": "code",
   "execution_count": 3,
   "metadata": {},
   "outputs": [],
   "source": [
    "# train_dir = \"/home/adalbert/data/urban-atlas/extracted-data/\"\n",
    "train_dir = \"../data/imagery/\""
   ]
  },
  {
   "cell_type": "code",
   "execution_count": 4,
   "metadata": {
    "scrolled": true
   },
   "outputs": [],
   "source": [
    "def load_data_sources(cities):\n",
    "\n",
    "    # load paths to source images\n",
    "\n",
    "    files = np.array([f for c in cities for f in glob.glob(train_dir + \"%s/*/*.jpg\"%c)])\n",
    "    files_df =  pd.DataFrame(files).rename(columns={0:\"filename\"})\n",
    "    files_df['class'] = files_df['filename'].apply(lambda x: x.split(\"\\\\\")[-2])\n",
    "    files_df['city'] = files_df['filename'].apply(lambda x: x.split(\"\\\\\")[-3].split(\"/\")[-1])\n",
    "    files_df['phase'] = files_df['filename'].apply(lambda x: \"validation\" if \"grid\" in x else \"training\")\n",
    "\n",
    "    # consolidate classes to work with\n",
    "\n",
    "    consolidate_classes = {\n",
    "        \"Continuous Urban Fabric (S.L. > 80%)\":\"High Density Urban Fabric\",\n",
    "         \"Discontinuous Dense Urban Fabric (S.L. : 50% -  80%)\":\"High Density Urban Fabric\",\n",
    "         \"Discontinuous Medium Density Urban Fabric (S.L. : 30% - 50%)\":\"Medium Density Urban Fabric\",\n",
    "         \"Discontinuous Low Density Urban Fabric (S.L. : 10% - 30%)\":\"Low Density Urban Fabric\",\n",
    "         \"Discontinuous Very Low Density Urban Fabric (S.L. < 10%)\":\"Low Density Urban Fabric\"\n",
    "    }\n",
    "    files_df['class'] = files_df['class'].apply(\n",
    "        lambda x: consolidate_classes[x] if x in consolidate_classes else x)\n",
    "\n",
    "    # TODO!!!\n",
    "    # there is a bug here -- the high density urban fabric is not included (because of the 'continuous' below)!!\n",
    "    # another bug: medium density does not exist!\n",
    "    include_classes = [\"Green urban areas\", \n",
    "                       \"Airports\",\n",
    "                       \"Forests\",\n",
    "                       \"Agricultural + Semi-natural areas + Wetlands\",\n",
    "                       # \"Railways and associated land\",\n",
    "                       \"High Density Urban Fabric\", \n",
    "                        #\"Mineral extraction and dump sites\",\n",
    "                       \"Medium Density Urban Fabric\", \n",
    "                       \"Low Density Urban Fabric\",\n",
    "                       \"Water bodies\",\n",
    "                       \"Sports and leisure facilities\",\n",
    "                       \"Industrial, commercial, public, military and private units\"]\n",
    "    files_df = files_df[files_df['class'].isin(include_classes)]\n",
    "\n",
    "    return files_df"
   ]
  },
  {
   "cell_type": "code",
   "execution_count": 5,
   "metadata": {},
   "outputs": [
    {
     "name": "stdout",
     "output_type": "stream",
     "text": [
      "7\n"
     ]
    }
   ],
   "source": [
    "cities = [\"budapest, hu\", \"barcelona, es\", \"madrid, es\"]\n",
    "\n",
    "files_df = load_data_sources(cities)\n",
    "\n",
    "# update classes dictionary if needed\n",
    "\n",
    "classes = files_df['class'].unique()\n",
    "classes.sort()\n",
    "class2label = {c:i for i,c in enumerate(classes)}\n",
    "label2class = {i:c for i,c in enumerate(classes)}\n",
    "N_CLASSES = len(classes)\n",
    "print(N_CLASSES)\n",
    "\n",
    "with gzip.open(\"classes.pickle.gz\", \"w\") as f:\n",
    "    pickle.dump({\"class2label\":class2label, \"label2class\":label2class}, f)\n",
    "\n",
    "# class_weights = get_class_weights(files_df['class'].apply(lambda x: class2label[x]))\n",
    "class_weights = {i:1 for i in range(N_CLASSES)}"
   ]
  },
  {
   "cell_type": "code",
   "execution_count": 6,
   "metadata": {
    "scrolled": true
   },
   "outputs": [],
   "source": [
    "stats_train = pd.DataFrame(files_df[files_df.phase==\"training\"].groupby([\"city\", \"class\"]).apply(len))\\\n",
    "                    .reset_index()\\\n",
    "                    .rename(columns={0:\"count\"})\n",
    "        \n",
    "stats_train = stats_train.pivot(columns=\"city\", index=\"class\")\n",
    "stats_train = stats_train.fillna(0).astype(int)\n",
    "stats_train.columns = stats_train.columns.droplevel(0)\n",
    "# add in row and column total sums\n",
    "stats_train['class total'] = stats_train.sum(1)\n",
    "newidx = stats_train.index.values.tolist() + [\"city total\"]\n",
    "stats_train = stats_train.append(stats_train.sum(0), ignore_index=True)\n",
    "stats_train.index = newidx\n",
    "\n",
    "stats_train.to_latex(\"samples_stats_train.tex\")\n",
    "\n",
    "stats_valid = pd.DataFrame(files_df[files_df.phase==\"validation\"].groupby([\"city\", \"class\"]).apply(len))\\\n",
    "                    .reset_index()\\\n",
    "                    .rename(columns={0:\"count\"})\n",
    "stats_valid = stats_valid.pivot(columns=\"city\", index=\"class\")\n",
    "stats_valid = stats_valid.fillna(0).astype(int)\n",
    "stats_valid.columns = stats_valid.columns.droplevel(0)\n",
    "# add in row and column total sums\n",
    "stats_valid = stats_valid.astype(float) / stats_valid.sum(0) * 100\n",
    "\n",
    "stats_valid.round(1).to_latex(\"samples_stats_valid.tex\")"
   ]
  },
  {
   "cell_type": "code",
   "execution_count": 7,
   "metadata": {},
   "outputs": [
    {
     "data": {
      "text/html": [
       "<div>\n",
       "<style scoped>\n",
       "    .dataframe tbody tr th:only-of-type {\n",
       "        vertical-align: middle;\n",
       "    }\n",
       "\n",
       "    .dataframe tbody tr th {\n",
       "        vertical-align: top;\n",
       "    }\n",
       "\n",
       "    .dataframe thead th {\n",
       "        text-align: right;\n",
       "    }\n",
       "</style>\n",
       "<table border=\"1\" class=\"dataframe\">\n",
       "  <thead>\n",
       "    <tr style=\"text-align: right;\">\n",
       "      <th>city</th>\n",
       "      <th>barcelona, es</th>\n",
       "      <th>budapest, hu</th>\n",
       "      <th>madrid, es</th>\n",
       "      <th>class total</th>\n",
       "    </tr>\n",
       "  </thead>\n",
       "  <tbody>\n",
       "    <tr>\n",
       "      <th>Agricultural + Semi-natural areas + Wetlands</th>\n",
       "      <td>2982</td>\n",
       "      <td>2212</td>\n",
       "      <td>4660</td>\n",
       "      <td>9854</td>\n",
       "    </tr>\n",
       "    <tr>\n",
       "      <th>Airports</th>\n",
       "      <td>83</td>\n",
       "      <td>138</td>\n",
       "      <td>124</td>\n",
       "      <td>345</td>\n",
       "    </tr>\n",
       "    <tr>\n",
       "      <th>Forests</th>\n",
       "      <td>2434</td>\n",
       "      <td>1552</td>\n",
       "      <td>2698</td>\n",
       "      <td>6684</td>\n",
       "    </tr>\n",
       "    <tr>\n",
       "      <th>Green urban areas</th>\n",
       "      <td>722</td>\n",
       "      <td>1343</td>\n",
       "      <td>1244</td>\n",
       "      <td>3309</td>\n",
       "    </tr>\n",
       "    <tr>\n",
       "      <th>Industrial, commercial, public, military and private units</th>\n",
       "      <td>2121</td>\n",
       "      <td>1848</td>\n",
       "      <td>3203</td>\n",
       "      <td>7172</td>\n",
       "    </tr>\n",
       "    <tr>\n",
       "      <th>Sports and leisure facilities</th>\n",
       "      <td>1150</td>\n",
       "      <td>1305</td>\n",
       "      <td>1401</td>\n",
       "      <td>3856</td>\n",
       "    </tr>\n",
       "    <tr>\n",
       "      <th>Water bodies</th>\n",
       "      <td>408</td>\n",
       "      <td>816</td>\n",
       "      <td>805</td>\n",
       "      <td>2029</td>\n",
       "    </tr>\n",
       "    <tr>\n",
       "      <th>city total</th>\n",
       "      <td>9900</td>\n",
       "      <td>9214</td>\n",
       "      <td>14135</td>\n",
       "      <td>33249</td>\n",
       "    </tr>\n",
       "  </tbody>\n",
       "</table>\n",
       "</div>"
      ],
      "text/plain": [
       "city                                                barcelona, es  \\\n",
       "Agricultural + Semi-natural areas + Wetlands                 2982   \n",
       "Airports                                                       83   \n",
       "Forests                                                      2434   \n",
       "Green urban areas                                             722   \n",
       "Industrial, commercial, public, military and pr...           2121   \n",
       "Sports and leisure facilities                                1150   \n",
       "Water bodies                                                  408   \n",
       "city total                                                   9900   \n",
       "\n",
       "city                                                budapest, hu  madrid, es  \\\n",
       "Agricultural + Semi-natural areas + Wetlands                2212        4660   \n",
       "Airports                                                     138         124   \n",
       "Forests                                                     1552        2698   \n",
       "Green urban areas                                           1343        1244   \n",
       "Industrial, commercial, public, military and pr...          1848        3203   \n",
       "Sports and leisure facilities                               1305        1401   \n",
       "Water bodies                                                 816         805   \n",
       "city total                                                  9214       14135   \n",
       "\n",
       "city                                                class total  \n",
       "Agricultural + Semi-natural areas + Wetlands               9854  \n",
       "Airports                                                    345  \n",
       "Forests                                                    6684  \n",
       "Green urban areas                                          3309  \n",
       "Industrial, commercial, public, military and pr...         7172  \n",
       "Sports and leisure facilities                              3856  \n",
       "Water bodies                                               2029  \n",
       "city total                                                33249  "
      ]
     },
     "execution_count": 7,
     "metadata": {},
     "output_type": "execute_result"
    }
   ],
   "source": [
    "stats_train"
   ]
  },
  {
   "cell_type": "code",
   "execution_count": 8,
   "metadata": {},
   "outputs": [
    {
     "data": {
      "text/html": [
       "<div>\n",
       "<style scoped>\n",
       "    .dataframe tbody tr th:only-of-type {\n",
       "        vertical-align: middle;\n",
       "    }\n",
       "\n",
       "    .dataframe tbody tr th {\n",
       "        vertical-align: top;\n",
       "    }\n",
       "\n",
       "    .dataframe thead th {\n",
       "        text-align: right;\n",
       "    }\n",
       "</style>\n",
       "<table border=\"1\" class=\"dataframe\">\n",
       "  <thead>\n",
       "    <tr style=\"text-align: right;\">\n",
       "      <th>city</th>\n",
       "      <th>barcelona, es</th>\n",
       "      <th>budapest, hu</th>\n",
       "      <th>madrid, es</th>\n",
       "    </tr>\n",
       "    <tr>\n",
       "      <th>class</th>\n",
       "      <th></th>\n",
       "      <th></th>\n",
       "      <th></th>\n",
       "    </tr>\n",
       "  </thead>\n",
       "  <tbody>\n",
       "    <tr>\n",
       "      <th>Agricultural + Semi-natural areas + Wetlands</th>\n",
       "      <td>38.4</td>\n",
       "      <td>43.2</td>\n",
       "      <td>85.2</td>\n",
       "    </tr>\n",
       "    <tr>\n",
       "      <th>Airports</th>\n",
       "      <td>0.3</td>\n",
       "      <td>2.6</td>\n",
       "      <td>0.0</td>\n",
       "    </tr>\n",
       "    <tr>\n",
       "      <th>Forests</th>\n",
       "      <td>38.2</td>\n",
       "      <td>29.7</td>\n",
       "      <td>2.3</td>\n",
       "    </tr>\n",
       "    <tr>\n",
       "      <th>Green urban areas</th>\n",
       "      <td>2.9</td>\n",
       "      <td>2.8</td>\n",
       "      <td>7.1</td>\n",
       "    </tr>\n",
       "    <tr>\n",
       "      <th>Industrial, commercial, public, military and private units</th>\n",
       "      <td>16.4</td>\n",
       "      <td>11.8</td>\n",
       "      <td>3.4</td>\n",
       "    </tr>\n",
       "    <tr>\n",
       "      <th>Sports and leisure facilities</th>\n",
       "      <td>3.8</td>\n",
       "      <td>2.2</td>\n",
       "      <td>1.7</td>\n",
       "    </tr>\n",
       "    <tr>\n",
       "      <th>Water bodies</th>\n",
       "      <td>0.0</td>\n",
       "      <td>7.6</td>\n",
       "      <td>0.4</td>\n",
       "    </tr>\n",
       "  </tbody>\n",
       "</table>\n",
       "</div>"
      ],
      "text/plain": [
       "city                                                barcelona, es  \\\n",
       "class                                                               \n",
       "Agricultural + Semi-natural areas + Wetlands                 38.4   \n",
       "Airports                                                      0.3   \n",
       "Forests                                                      38.2   \n",
       "Green urban areas                                             2.9   \n",
       "Industrial, commercial, public, military and pr...           16.4   \n",
       "Sports and leisure facilities                                 3.8   \n",
       "Water bodies                                                  0.0   \n",
       "\n",
       "city                                                budapest, hu  madrid, es  \n",
       "class                                                                         \n",
       "Agricultural + Semi-natural areas + Wetlands                43.2        85.2  \n",
       "Airports                                                     2.6         0.0  \n",
       "Forests                                                     29.7         2.3  \n",
       "Green urban areas                                            2.8         7.1  \n",
       "Industrial, commercial, public, military and pr...          11.8         3.4  \n",
       "Sports and leisure facilities                                2.2         1.7  \n",
       "Water bodies                                                 7.6         0.4  "
      ]
     },
     "execution_count": 8,
     "metadata": {},
     "output_type": "execute_result"
    }
   ],
   "source": [
    "stats_valid.round(1)"
   ]
  },
  {
   "cell_type": "markdown",
   "metadata": {},
   "source": [
    "### Split into train & test"
   ]
  },
  {
   "cell_type": "code",
   "execution_count": 9,
   "metadata": {
    "scrolled": true
   },
   "outputs": [],
   "source": [
    "FRAC_TRAIN = 0.8\n",
    "\n",
    "def split_train_test(my_files_df, frac_train=0.8, save_prefix=\"\"):\n",
    "\n",
    "    train_df = my_files_df.sample(int(len(my_files_df) * frac_train))\n",
    "    test_df  = my_files_df[~my_files_df.index.isin(train_df.index)]\n",
    "\n",
    "    print(\"Train: %d; Test: %d\"%(len(train_df), len(test_df)))\n",
    "\n",
    "    train_df.to_csv(\"%strain.csv\"%save_prefix, index=False)\n",
    "    test_df.to_csv(\"%stest.csv\"%save_prefix, index=False)\n",
    "\n",
    "    return train_df, test_df"
   ]
  },
  {
   "cell_type": "code",
   "execution_count": 10,
   "metadata": {},
   "outputs": [
    {
     "name": "stdout",
     "output_type": "stream",
     "text": [
      "Train: 33151; Test: 8288\n"
     ]
    }
   ],
   "source": [
    "mycities = cities\n",
    "my_files_df = files_df[files_df['city'].isin(mycities)]\n",
    "\n",
    "train_df, test_df = split_train_test(my_files_df, frac_train=0.8)"
   ]
  },
  {
   "cell_type": "code",
   "execution_count": 11,
   "metadata": {
    "scrolled": true
   },
   "outputs": [
    {
     "data": {
      "text/plain": [
       "Agricultural + Semi-natural areas + Wetlands                  12315\n",
       "Forests                                                        6299\n",
       "Industrial, commercial, public, military and private units     6193\n",
       "Sports and leisure facilities                                  3255\n",
       "Green urban areas                                              2989\n",
       "Water bodies                                                   1780\n",
       "Airports                                                        320\n",
       "Name: class, dtype: int64"
      ]
     },
     "execution_count": 11,
     "metadata": {},
     "output_type": "execute_result"
    }
   ],
   "source": [
    "train_df['class'].value_counts()"
   ]
  },
  {
   "cell_type": "code",
   "execution_count": 12,
   "metadata": {
    "scrolled": true
   },
   "outputs": [
    {
     "data": {
      "text/plain": [
       "Agricultural + Semi-natural areas + Wetlands                  3110\n",
       "Industrial, commercial, public, military and private units    1584\n",
       "Forests                                                       1559\n",
       "Sports and leisure facilities                                  777\n",
       "Green urban areas                                              764\n",
       "Water bodies                                                   414\n",
       "Airports                                                        80\n",
       "Name: class, dtype: int64"
      ]
     },
     "execution_count": 12,
     "metadata": {},
     "output_type": "execute_result"
    }
   ],
   "source": [
    "test_df['class'].value_counts()"
   ]
  },
  {
   "cell_type": "markdown",
   "metadata": {},
   "source": [
    "### Set up batching\n",
    "\n",
    "The data is stored in folders in the format \"/city/class-name/city_zoom_lat_lon.jpg\". It's not feasible to try to separate the data into train/test beforehand, this should be done via files for train/test with file paths when training the model.\n"
   ]
  },
  {
   "cell_type": "code",
   "execution_count": 14,
   "metadata": {
    "scrolled": true
   },
   "outputs": [],
   "source": [
    "BATCH_SIZE = 50\n",
    "\n",
    "# Generator for preprocessing images for data augmentation\n",
    "\n",
    "from keras.preprocessing.image import ImageDataGenerator\n",
    "\n",
    "# this is the augmentation configuration we will use for training\n",
    "train_augmenter = ImageDataGenerator(\n",
    "        rescale=1./255,\n",
    "        shear_range=0.10,\n",
    "        zoom_range=[1,1.2],\n",
    "        vertical_flip=True,\n",
    "        rotation_range=15,\n",
    "        horizontal_flip=True)\n",
    "\n",
    "test_augmenter = ImageDataGenerator(rescale=1./255)\n"
   ]
  },
  {
   "cell_type": "code",
   "execution_count": 15,
   "metadata": {
    "scrolled": true
   },
   "outputs": [
    {
     "name": "stdout",
     "output_type": "stream",
     "text": [
      "0.0 1.0 5156663.5 float32\n",
      "0.0 1.0 4923781.5 float32\n",
      "0.0 1.0 5333512.5 float32\n",
      "0.0 1.0 5063062.0 float32\n",
      "0.0 1.0 5275102.0 float32\n",
      "0.0 1.0 4692067.5 float32\n"
     ]
    }
   ],
   "source": [
    "tr_gen = ku.generator_from_file(\"train.csv\", \\\n",
    "                                      image_generator=train_augmenter, \\\n",
    "                                      class_dict = class2label,\\\n",
    "                          \n",
    "                                balance = 1,\n",
    "                                      crop=42,\n",
    "                                      #downsample=2,\n",
    "                                      new_img_shape=(224,224), \n",
    "                                      batch_size=BATCH_SIZE)\n",
    "ts_gen = ku.generator_from_file(\"test.csv\", \\\n",
    "                                      image_generator=test_augmenter, \\\n",
    "                                      class_dict = class2label,\\\n",
    "                                      crop=42,\n",
    "                                      balance = 1,\n",
    "                                      #downsample=2,\n",
    "                                      new_img_shape=(224,224), \n",
    "                                      batch_size=BATCH_SIZE)\n",
    "i = 0\n",
    "for X, y in tr_gen:\n",
    "    print (X.min(), X.max(), X.sum(), X.dtype), X.shape, y.argmax(1).sum()\n",
    "    i += 1\n",
    "    if i > 5:\n",
    "        break\n",
    "    "
   ]
  },
  {
   "cell_type": "code",
   "execution_count": 16,
   "metadata": {
    "scrolled": false
   },
   "outputs": [
    {
     "data": {
      "text/plain": [
       "Text(0.5,1,'Sports and leisure facilities')"
      ]
     },
     "execution_count": 16,
     "metadata": {},
     "output_type": "execute_result"
    },
    {
     "data": {
      "image/png": "[encoded data removed]",
      "text/plain": [
       "<matplotlib.figure.Figure at 0x1df603e0fd0>"
      ]
     },
     "metadata": {},
     "output_type": "display_data"
    }
   ],
   "source": [
    "plt.imshow(X[0,:,:,:])\n",
    "plt.title(label2class[y[0].argmax()])"
   ]
  },
  {
   "cell_type": "markdown",
   "metadata": {},
   "source": [
    "# Define architectures\n",
    "\n",
    "This uses models previously trained on the DeepSat benchmark."
   ]
  },
  {
   "cell_type": "markdown",
   "metadata": {},
   "source": [
    "#### VGG16 model pre-trained on DeepSat data"
   ]
  },
  {
   "cell_type": "code",
   "execution_count": 17,
   "metadata": {
    "scrolled": true
   },
   "outputs": [],
   "source": [
    "from keras.layers import Dense, Flatten\n",
    "from keras.models import Model, Sequential\n",
    "\n",
    "def setup_vgg16(n_classes, model_file):\n",
    "    # load model and weights\n",
    "    model = keras.models.load_model(model_file)\n",
    "\n",
    "    # there's a bug in how Keras handles popping layers for net surgery\n",
    "    # even if the last layer is popped, the model still believes its output shape is the old one\n",
    "    # see https://github.com/fchollet/keras/issues/2371\n",
    "    model.layers.pop() # Get rid of the classification layer\n",
    "    model.outputs = [model.layers[-1].output]\n",
    "    model.output_layers = [model.layers[-1]] # added this line in addition to zo7 solution\n",
    "    model.layers[-1].outbound_nodes = []\n",
    "\n",
    "    # add new top model for classification over Urban Atlas classes\n",
    "    top_model = Dense(n_classes, input_shape=model.layers[-1].output_shape[1:], \n",
    "                  activation='softmax', name=\"dense8_new\")\n",
    "    model.add(top_model)\n",
    "    \n",
    "    return model\n",
    "\n",
    "model_file_vgg16 = \"../deepsat-experiments/vgg16-deepsat-imagenet-best-checkpoint.h5\""
   ]
  },
  {
   "cell_type": "markdown",
   "metadata": {},
   "source": [
    "#### Resnet-50 model pre-trained on DeepSat data"
   ]
  },
  {
   "cell_type": "code",
   "execution_count": 34,
   "metadata": {
    "scrolled": true
   },
   "outputs": [],
   "source": [
    "from keras.layers import Dense\n",
    "from keras.models import Model\n",
    "\n",
    "def setup_resnet50(n_classes, model_file):\n",
    "\n",
    "    model = keras.models.load_model(model_file)\n",
    "\n",
    "    model.layers.pop() # Get rid of the classification layer\n",
    "    model.outputs = [model.layers[-1].output]\n",
    "    model.output_layers = [model.layers[-1]] # added this line in addition to zo7 solution\n",
    "    model.layers[-1].outbound_nodes = []\n",
    "\n",
    "    newClassificationLayer = Dense(N_CLASSES, activation='softmax')(model.layers[-1].output)\n",
    "    model = Model(input=model.input, output=newClassificationLayer)\n",
    "    \n",
    "    return model\n",
    "\n",
    "model_file_resnet50 = \"resnet-deepsat-imagenet-best-checkpoint.h5\""
   ]
  },
  {
   "cell_type": "markdown",
   "metadata": {},
   "source": [
    "# Define training protocol"
   ]
  },
  {
   "cell_type": "code",
   "execution_count": 18,
   "metadata": {},
   "outputs": [],
   "source": [
    "import re\n",
    "\n",
    "def fn_get_acc(filename):\n",
    "    reg = r\"-(\\d.+)-\"\n",
    "    match = re.search(reg, filename)\n",
    "    return float(filename[match.start():match.end()].replace(\"-\",\"\"))\n"
   ]
  },
  {
   "cell_type": "code",
   "execution_count": 36,
   "metadata": {
    "scrolled": false
   },
   "outputs": [],
   "source": [
    "from keras.optimizers import SGD, RMSprop, Adadelta, Adagrad, Adam\n",
    "from keras.callbacks import ModelCheckpoint, ReduceLROnPlateau, TensorBoard\n",
    "\n",
    "GPUS = [0,1,2,3]\n",
    "BASE_LR = 0.1\n",
    "LR_DECAY_PER_EPOCH = 2.0 #1.1\n",
    "\n",
    "def train_cycle(model, train_generator, test_generator, fix_base=True, save_prefix=\"\", nb_epochs=50):\n",
    "    \n",
    "    # control whether to train on \n",
    "    trainable_layers = [l.name for l in model.layers if len(l.get_weights())>0 ]\n",
    "    for l in model.layers:\n",
    "        l.trainable = (not fix_base) or (l.name == trainable_layers[-1])\n",
    "\n",
    "    # this uses the TensorFlow backend to spread computation on multiple GPUs\n",
    "#     model_gpu = make_parallel(model, GPUS)\n",
    "\n",
    "    # compile model\n",
    "    model.compile(loss='categorical_crossentropy', \\\n",
    "                  metrics=['accuracy'],\\\n",
    "                  optimizer=Adadelta(lr=BASE_LR))\n",
    "\n",
    "    # Logs to TensorBoard, new one for each run\n",
    "    log_path_tensorboard = \"./logs/\"\n",
    "    now = time.strftime(\"%c\")\n",
    "#     tensorboard_callback_fn = TensorBoard(log_dir=log_path_tensorboard + now + \"-\" + save_prefix, \\\n",
    "#                                     histogram_freq=0, \\\n",
    "#                                     write_graph=True, \\\n",
    "#                                     write_images=False)\n",
    "\n",
    "    \n",
    "    # callback to checkpoint best model\n",
    "    ckpt_file = \"%s-{val_acc:.2f}-checkpoint.h5\"%save_prefix\n",
    "    model_checkpoint_callback = ModelCheckpoint(ckpt_file, monitor='val_acc', \\\n",
    "                                                verbose=1, save_best_only=True, mode='max')\n",
    "\n",
    "    # callback for a custom learning rate decay schedule\n",
    "\n",
    "    lr_scheduler = lambda epoch: BASE_LR * LR_DECAY_PER_EPOCH**(-(epoch/10))\n",
    "    lr_decay_callback = keras.callbacks.LearningRateScheduler(lr_scheduler)\n",
    "\n",
    "    # early stopping callback\n",
    "    earlystopping_callback = keras.callbacks.EarlyStopping(monitor='val_acc', \\\n",
    "                                                           min_delta=1e-4, \\\n",
    "                                                           patience=10, verbose=0, mode='auto')\n",
    "    lr_reducer_callback = ReduceLROnPlateau(monitor='val_loss', \\\n",
    "                                            factor=np.sqrt(0.1), \\\n",
    "                                            cooldown=0, patience=5, \\\n",
    "                                            min_lr=0.5e-6)\n",
    "\n",
    "    # train model\n",
    "    history = model.fit_generator(\n",
    "                train_generator,\n",
    "                samples_per_epoch=2000,\n",
    "                class_weight=class_weights,\n",
    "                nb_epoch=nb_epochs,\n",
    "                validation_data=test_generator,\n",
    "                callbacks = [lr_decay_callback, \\\n",
    "                             model_checkpoint_callback, \n",
    "                             earlystopping_callback, lr_reducer_callback],\n",
    "                nb_val_samples=1000)\n",
    "    \n",
    "    # return checkpoint of maximum validation accuracy\n",
    "    model_files = glob.glob(\"%s-*-checkpoint.h5\"%save_prefix)\n",
    "    checkpoints_dict = {f:fn_get_acc(f) for f in model_files}\n",
    "    best_checkpoint_file = checkpoints_dict.keys()[checkpoints_dict.values().index(max(checkpoints_dict.values()))]\n",
    "    return max(history.history['val_acc']), best_checkpoint_file"
   ]
  },
  {
   "cell_type": "code",
   "execution_count": 21,
   "metadata": {
    "collapsed": true
   },
   "outputs": [],
   "source": [
    "# Keras won't release GPU memory, so training multiple models within a loop might crash.\n",
    "# This is a fix that runs each training cycle in its own OS process using the multiprocessing module.\n",
    "# See via https://github.com/fchollet/keras/issues/2689\n",
    "\n",
    "from multiprocessing import Process, Queue\n",
    "\n",
    "def run_in_separate_process(method, args):\n",
    "    def queue_wrapper(q, params):\n",
    "        r = method(*params)\n",
    "        q.put(r)\n",
    "\n",
    "    q = Queue()\n",
    "    p = Process(target=queue_wrapper, args=(q, args))\n",
    "    p.start()\n",
    "    return_val = q.get()\n",
    "    p.join()\n",
    "    return return_val\n",
    "\n",
    "# another solution is as follows:\n",
    "\n",
    "# from keras import backend as K\n",
    "# K.clear_session()\n"
   ]
  },
  {
   "cell_type": "code",
   "execution_count": 22,
   "metadata": {
    "scrolled": false
   },
   "outputs": [],
   "source": [
    "# model = setup_resnet50(N_CLASSES, model_file_resnet50)    \n",
    "\n",
    "# # train using initial weights, only train top layer\n",
    "# best_acc, best_checkpoint = train_cycle(model, tr_gen, ts_gen, fix_base=True, nb_epochs=30,\\\n",
    "#                                         save_prefix=\"%s-urbanatlas-%s\"%(\"resnet50\", \"+\".join(mycities)))\n",
    "\n",
    "# K.clear_session()"
   ]
  },
  {
   "cell_type": "markdown",
   "metadata": {},
   "source": [
    "# Train models: loop through experiments"
   ]
  },
  {
   "cell_type": "code",
   "execution_count": 23,
   "metadata": {},
   "outputs": [],
   "source": [
    "# # set up experiments\n",
    "\n",
    "# cities = [\"athina\", \"berlin\", \"bucuresti\", \"tallinn\", \"barcelona\", \"dublin\"]\n",
    "# mycities = [[x] for x in cities] + [list(set(cities)-set([c])) for c in cities]\n",
    "\n",
    "# architectures = [(\"resnet50\", setup_resnet50, model_file_resnet50),\n",
    "#                  (\"vgg16\", setup_vgg16, model_file_vgg16)]"
   ]
  },
  {
   "cell_type": "code",
   "execution_count": 29,
   "metadata": {},
   "outputs": [],
   "source": [
    "# set up experiments\n",
    "\n",
    "cities = [\"madrid, es\"]\n",
    "mycities = [[x] for x in cities] \n",
    "\n",
    "architectures = [(\"resnet50\", setup_resnet50, model_file_resnet50)]\n",
    "#                  (\"vgg16\", setup_vgg16, model_file_vgg16)]"
   ]
  },
  {
   "cell_type": "code",
   "execution_count": 30,
   "metadata": {},
   "outputs": [
    {
     "data": {
      "text/plain": [
       "[['madrid, es']]"
      ]
     },
     "execution_count": 30,
     "metadata": {},
     "output_type": "execute_result"
    }
   ],
   "source": [
    "mycities"
   ]
  },
  {
   "cell_type": "code",
   "execution_count": 23,
   "metadata": {},
   "outputs": [],
   "source": [
    "val_acc_dict = {}"
   ]
  },
  {
   "cell_type": "code",
   "execution_count": 37,
   "metadata": {
    "scrolled": false
   },
   "outputs": [
    {
     "name": "stdout",
     "output_type": "stream",
     "text": [
      "madrid, es | train: 15295 | test: 3824\n",
      "madrid, es | resnet50 | training top layer\n",
      "WARNING:tensorflow:From C:\\Users\\roykl\\Anaconda3\\lib\\site-packages\\tensorflow\\contrib\\learn\\python\\learn\\datasets\\base.py:198: retry (from tensorflow.contrib.learn.python.learn.datasets.base) is deprecated and will be removed in a future version.\n",
      "Instructions for updating:\n",
      "Use the retry module or similar alternatives.\n"
     ]
    },
    {
     "ename": "NameError",
     "evalue": "name 'model_gpu' is not defined",
     "output_type": "error",
     "traceback": [
      "\u001b[1;31m---------------------------------------------------------------------------\u001b[0m",
      "\u001b[1;31mNameError\u001b[0m                                 Traceback (most recent call last)",
      "\u001b[1;32m<ipython-input-37-bd14dcb147d4>\u001b[0m in \u001b[0;36m<module>\u001b[1;34m()\u001b[0m\n\u001b[0;32m     48\u001b[0m         \u001b[1;31m# this is because the random initialization might propagate errors down the network\u001b[0m\u001b[1;33m\u001b[0m\u001b[1;33m\u001b[0m\u001b[0m\n\u001b[0;32m     49\u001b[0m         \u001b[0mprint\u001b[0m\u001b[1;33m(\u001b[0m\u001b[1;34m\"%s | %s | training top layer\"\u001b[0m \u001b[1;33m%\u001b[0m \u001b[1;33m(\u001b[0m\u001b[0msave_prefix\u001b[0m\u001b[1;33m,\u001b[0m \u001b[0marchitecture\u001b[0m\u001b[1;33m)\u001b[0m\u001b[1;33m)\u001b[0m\u001b[1;33m\u001b[0m\u001b[0m\n\u001b[1;32m---> 50\u001b[1;33m         \u001b[0mbest_acc1\u001b[0m\u001b[1;33m,\u001b[0m \u001b[0mbest_checkpoint\u001b[0m \u001b[1;33m=\u001b[0m \u001b[0mtrain_cycle\u001b[0m\u001b[1;33m(\u001b[0m\u001b[0mmodel\u001b[0m\u001b[1;33m,\u001b[0m \u001b[0mtrain_generator\u001b[0m\u001b[1;33m,\u001b[0m \u001b[0mtest_generator\u001b[0m\u001b[1;33m,\u001b[0m \u001b[0mfix_base\u001b[0m\u001b[1;33m=\u001b[0m\u001b[1;32mTrue\u001b[0m\u001b[1;33m,\u001b[0m \u001b[0mnb_epochs\u001b[0m\u001b[1;33m=\u001b[0m\u001b[1;36m20\u001b[0m\u001b[1;33m,\u001b[0m                                                \u001b[0msave_prefix\u001b[0m\u001b[1;33m=\u001b[0m\u001b[1;34m\"%s-urbanatlas-%s\"\u001b[0m\u001b[1;33m%\u001b[0m\u001b[1;33m(\u001b[0m\u001b[0marchitecture\u001b[0m\u001b[1;33m,\u001b[0m \u001b[0msave_prefix\u001b[0m\u001b[1;33m)\u001b[0m\u001b[1;33m)\u001b[0m\u001b[1;33m\u001b[0m\u001b[0m\n\u001b[0m\u001b[0;32m     51\u001b[0m         \u001b[0mclear_output\u001b[0m\u001b[1;33m(\u001b[0m\u001b[0mwait\u001b[0m\u001b[1;33m=\u001b[0m\u001b[1;32mTrue\u001b[0m\u001b[1;33m)\u001b[0m\u001b[1;33m\u001b[0m\u001b[0m\n\u001b[0;32m     52\u001b[0m         \u001b[0mK\u001b[0m\u001b[1;33m.\u001b[0m\u001b[0mclear_session\u001b[0m\u001b[1;33m(\u001b[0m\u001b[1;33m)\u001b[0m\u001b[1;33m\u001b[0m\u001b[0m\n",
      "\u001b[1;32m<ipython-input-36-0a8dd885235f>\u001b[0m in \u001b[0;36mtrain_cycle\u001b[1;34m(model, train_generator, test_generator, fix_base, save_prefix, nb_epochs)\u001b[0m\n\u001b[0;32m     39\u001b[0m \u001b[1;33m\u001b[0m\u001b[0m\n\u001b[0;32m     40\u001b[0m     \u001b[1;31m# train model\u001b[0m\u001b[1;33m\u001b[0m\u001b[1;33m\u001b[0m\u001b[0m\n\u001b[1;32m---> 41\u001b[1;33m     history = model_gpu.fit_generator(\n\u001b[0m\u001b[0;32m     42\u001b[0m                 \u001b[0mtrain_generator\u001b[0m\u001b[1;33m,\u001b[0m\u001b[1;33m\u001b[0m\u001b[0m\n\u001b[0;32m     43\u001b[0m                 \u001b[0msamples_per_epoch\u001b[0m\u001b[1;33m=\u001b[0m\u001b[1;36m2000\u001b[0m\u001b[1;33m,\u001b[0m\u001b[1;33m\u001b[0m\u001b[0m\n",
      "\u001b[1;31mNameError\u001b[0m: name 'model_gpu' is not defined"
     ]
    }
   ],
   "source": [
    "from keras.optimizers import SGD, RMSprop, Adadelta, Adagrad, Adam\n",
    "import time\n",
    "\n",
    "for cur_cities in mycities:\n",
    "    \n",
    "    # load data, set up classes\n",
    "    \n",
    "    my_files_df = files_df[files_df['city'].isin(cur_cities)]\n",
    "    save_prefix = \"+\".join(cur_cities)\n",
    "    \n",
    "    # split into test & train\n",
    "    \n",
    "    train_df = my_files_df.sample(int(len(my_files_df) * FRAC_TRAIN))\n",
    "    train_csv= \"%s-train.csv\"%save_prefix\n",
    "    train_df.to_csv(train_csv, index=False)\n",
    "\n",
    "    test_df  = my_files_df[~my_files_df.index.isin(train_df.index)]\n",
    "    test_csv = \"%s-test.csv\"%save_prefix\n",
    "    test_df.to_csv(test_csv, index=False)\n",
    "    print(\"%s | train: %d | test: %d\"%(\"+\".join(cur_cities), len(train_df), len(test_df)))\n",
    "\n",
    "    # define test & train generators\n",
    "    \n",
    "    train_generator = ku.generator_from_file(train_csv, \\\n",
    "                                      image_generator=train_augmenter, \\\n",
    "                                      class_dict = class2label,\\\n",
    "                                      balance = 1,\n",
    "                                      #downsample=2,\n",
    "                                      new_img_shape=(224,224), \n",
    "                                      batch_size=BATCH_SIZE)\n",
    "    test_generator  = ku.generator_from_file(test_csv, \\\n",
    "                                          image_generator=test_augmenter, \\\n",
    "                                          balance = 1,\n",
    "                                          #downsample=2,\n",
    "                                          class_dict = class2label,\\\n",
    "                                          new_img_shape=(224,224), \n",
    "                                          batch_size=BATCH_SIZE)\n",
    "    # train architectures \n",
    "    \n",
    "    for architecture, fn_setup_architecture, model_file in architectures:\n",
    "        \n",
    "        existing_checkpoints = glob.glob(\"*checkpoint.h5\")\n",
    "        existing_checkpoints = np.unique([f.split(\"-\")[0] + f.split(\"-\")[2] for f in existing_checkpoints])\n",
    "        if architecture + save_prefix in existing_checkpoints:\n",
    "            print((architecture, save_prefix), \"already computed!\")\n",
    "            continue\n",
    "        \n",
    "        # set up model\n",
    "        K.clear_session()\n",
    "        model = fn_setup_architecture(N_CLASSES, model_file)    \n",
    "        \n",
    "        # train using initial weights, only train top layer for a smaller number of epochs\n",
    "        # this is because the random initialization might propagate errors down the network\n",
    "        print(\"%s | %s | training top layer\" % (save_prefix, architecture))\n",
    "        best_acc1, best_checkpoint = train_cycle(model, train_generator, test_generator, fix_base=True, nb_epochs=20,\\\n",
    "                                                save_prefix=\"%s-urbanatlas-%s\"%(architecture, save_prefix))\n",
    "        clear_output(wait=True)\n",
    "        K.clear_session()\n",
    "        \n",
    "        # further train all layers in the network\n",
    "        print(\"%s | %s | training all layers\" % (save_prefix, architecture))\n",
    "        model = keras.models.load_model(best_checkpoint)\n",
    "        best_acc2, best_checkpoint = train_cycle(model, train_generator, test_generator, fix_base=False, \\\n",
    "                                                save_prefix=\"%s-urbanatlas-%s\"%(architecture, save_prefix))        \n",
    "        clear_output(wait=True)\n",
    "        K.clear_session()\n",
    "        \n",
    "        # further train all layers in the network starting from best checkpoint\n",
    "        # looks like this improves the accuracy slightly in experiments\n",
    "        print(\"%s | %s | further training\" % (save_prefix, architecture))\n",
    "        model = keras.models.load_model(best_checkpoint)\n",
    "        best_acc3, best_checkpoint = train_cycle(model, train_generator, test_generator, fix_base=False, \\\n",
    "                                                save_prefix=\"%s-urbanatlas-%s\"%(architecture, save_prefix))\n",
    "        clear_output(wait=True)\n",
    "        K.clear_session()        \n",
    "        \n",
    "        val_acc_dict[(save_prefix, architecture)] = (best_acc1, best_acc2, best_acc3)"
   ]
  },
  {
   "cell_type": "markdown",
   "metadata": {},
   "source": [
    "# Sensitivity analysis: train with different patch sizes"
   ]
  },
  {
   "cell_type": "code",
   "execution_count": 26,
   "metadata": {
    "collapsed": true
   },
   "outputs": [],
   "source": [
    "mycities = [\"berlin\"]\n",
    "\n",
    "crop_vec = [42, 84, 126]"
   ]
  },
  {
   "cell_type": "code",
   "execution_count": null,
   "metadata": {
    "scrolled": false
   },
   "outputs": [
    {
     "name": "stdout",
     "output_type": "stream",
     "text": [
      "berlin_150m | training top layer\n",
      "WARNING:tensorflow:From /usr/local/lib/python2.7/dist-packages/keras/callbacks.py:618 in set_model.: merge_all_summaries (from tensorflow.python.ops.logging_ops) is deprecated and will be removed after 2016-11-30.\n",
      "Instructions for updating:\n",
      "Please switch to tf.summary.merge_all.\n",
      "Epoch 1/20\n",
      "1900/2000 [===========================>..] - ETA: 1s - loss: 2.7855 - acc: 0.1079 - precision: 0.0549 - recall: 0.0116 \b\b\b\b\b\b\b\b\b\b\b\b\b\b\b\b\b\b\b\b\b\b\b\b\b\b\b\b\b\b\b\b\b\b\b\b\b\b\b\b\b\b\b\b\b\b\b\b\b\b\b\b\b\b\b\b\b\b\b\b\b\b\b\b\b\b\b\b\b\b\b\b\b\b\b\b\b\b\b\b\b\b\b\b\b\b\b\b\b\b\b\b\b\b\b\b\b\b\b\b\b\b\b\b\b\b\b\b\b\b\b\b\b\b\b\b\b\b\b\b\b\b\b\b\b\b\b\b\b\b\b\b\b\b\b\b\b\b\b\b\b\b\b\b\b\b\b\b\b\b\b\b\b\b\b\b\b\b\b\b\b\b\b\b\b\b\b\b\b\b\b\b\b\b\b\b\b\b\b\b\b\b\b\b\b\b\b\b\b\b\b\b\b\b\b\b\b\b\b\b\b\b\b\b\b\b\b\b\b\b\b\b\b\b\b\b\b\b\b\b\b\b\b\b\b\b\b\b\b\b\b\b\b\b\b\b\b\b\b\b\b\b\b\b\b\b\b\b\b\b\b\b\b\b\b\b\b\b\b\b\b\b\b\b\b\b\b\b\b\b\b\b\b\b\b\b\b\b\b\b\b\b\b\b\b\b\b\b\b\b\b\b\b\b\b\b\b\b\b\b\b\b\b\b\b\b\b\b\b\b\b\b\b\b\b\b\b\b\b\b\b\b\b\b\b\b\b\b\b\b\b\b\b\b\b\b\b\b\b\b\b\b\b\b\b\b\b\b\b\b\b\b\b\b\b\b\b\b\b\b\b\b\b\b\b\b\b\b\b\b\b\b\b\b\b\b\b\b\b\b\b\b\b\b\b\b\b\b\b\b\b\b\b\b\b\b\b\b\b\b\b\b\b\b\b\b\b\b\b\b\b\b\b\b\b\b\b\b\b\b\b\b\b\b\b\b\b\b\b\b\b\b\b\b\b\b\b\b\b\b\b\b\b\b\b\b\b\b\b\b\b\b\b\b\b\b\b\b\b\b\b\b\b\b\b\b\b\b\b\b\b\b\b\b\b\b\b\b\b\b\b\b\b\b\b\b\b\b\b\b\b\b\b\b\b\b\b\b\b\b\b\b\b\b\b\b\b\b\b\b\b\b\b\b\b\b\b\b\b\b\b\b\b\b\b\b\b\b\b\b\b\b\b\b\b\b\b\b\b\b\b\b\b\b\b\b\b\b\b\b\b\b\b\b\b\b\b\b\b\b\b\b\b\b\b\b\b\b\b\b\b\b\b\b\b\b\b\b\b\b\b\b\b\b\b\b\b\b\b\b\b\b\b\b\b\b\b\b\b\b\b\b\b\b\b\b\b\b\b\b\b\b\b\b\b\b\b\b\b\b\b\b\b\b\b\b\b\b\b\b\b\b\b\b\b\b\b\b\b\b\b\b\b\b\b\b\b\b\b\b\b\b\b\b\b\b\b\b\b\b\b\b\b\b\b\b\b\b\b\b\b\b\b\b\b\b\b\b\b\b\b\b\b\b\b\b\b\b\b\b\b\b\b\b\b\b\b\b\b\b\b\b\b\b\b\b\b\b\b\b\b\b\b\b\b\b\b\b\b\b\b\b\b\b\b\b\b\b\b\b\b\b\b\b\b\b\b\b\b\b\b\b\b\b\b\b\b\b\b\b\b\b\b\b\b\b\b\b\b\b\b\b\b\b\b\b\b\b\b\b\b\b\b\b\b\b\b\b\b\b\b\b\b\b\b\b\b\b\b\b\b\b\b\b\b\b\b\b\b\b\b\b\b\b\b\b\b\b\b\b\b\b\b\b\b\b\b\b\b\b\b\b\b\b\b\b\b\b\b\b\b\b\b\b\b\b\b\b\b\b\b\b\b\b\b\b\b\b\b\b\b\b\b\b\b\b\b\b\b\b\b\b\b\b\b\b\b\b\b\b\b\b\b\b\b\b\b\b\b\b\b\b\b\b\b\b\b\b\b\b\b\b\b\b\b\b\b\b\b\b\b\b\b\b\b\b\b\b\b\b\b\b\b\b\b\b\b\b\b\b\b\b\b\b\b\b\b\b\b\b\b\b\b\b\b\b\b\b\b\b\b\b\b\b\b\b\b\b\b\b\b\b\b\b\b\b\b\b\b\b\b\b\b\b\b\b\b\b\b\b\b\b\b\b\b\b\b\b\b\b\b\b\b\b\b\b\b\b\b\b\b\b\b\b\b\b\b\b\b\b\b\b\b\b\b\b\b\b\b\b\b\b\b\b\b\b\b\b\b\b\b\b\b\b\b\b\b\b\b\b\b\b\b\b\b\b\b\b\b\b\b\b\b\b\b\b\b\b\b\b\b\b\b\b\b\b\b\b\b\b\b\b\b\b\b\b\b\b\b\b\b\b\b\b\b\b\b\b\b\b\b\b\b\b\b\b\b\b\b\b\b\b\b\b\b\b\b\b\b\b\b\b\b\b\b\b\b\b\b\b\b\b\b\b\b\b\b\b\b\b\b\b\b\b\b\b\b\b\b\b\b\b\b\b\b\b\b\b\b\b\b\b\b\b\b\b\b\b\b\b\b\b\b\b\b\b\b\b\b\b\b\b\b\b\b\b\b\b\b\b\b\b\b\b\b\b\b\b\b\b\b\b\b\b\b\b\b\b\b\b\b\b\b\b\b\b\b\b\b\b\b\b\b\b\b\b\b\b\b\b\b\b\b\b\b\b\b\b\b\b\b\b\b\b\b\b\b\b\b\b\b\b\b\b\b\b\b\b\b\b\b\b\b\b\b\b\b\b\b\b\b\b\b\b\b\b\b\b\b\b\b\b\b\b\b\b\b\b\b\b\b\b\b\b\b\b\b\b\b\b\b\b\b\b\b\b\b\b\b\b\b\b\b\b\b\b\b\b\b\b\b\b\b\b\b\b\b\b\b\b\b\b\b\b\b\b\b\b\b\b\b\b\b\b\b\b\b\b\b\b\b\b\b\b\b\b\b\b\b\b\b\b\b\b\b\b\b\b\b\b\b\b\b\b\b\b\b\b\b\b\b\b\b\b\b\b\b\b\b\b\b\b\b\b\b\b\b\b\b\b\b\b\b\b\b\b\b\b\b\b\b\b\b\b\b\b\b\b\b\b\b\b\b\b\b\b\b\b\b\b\b\b\b\b\b\b\b\b\b\b\b\b\b\b\b\b\b\b\b\b\b\b\b\b\b\b\b\b\b\b\b\b\b\b\b\b\b\b\b\b\b\b\b\b\b\b\b\b\b\b\b\b\b\b\b\b\b\b\b\b\b\b\b\b\b\b\b\b\b\b\b\b\b\b\b\b\b\b\b\b\b\b\b\b\b\b\b\b\b\b\b\b\b\b\b\b\b\b\b\b\b\b\b\b\b\b\b\b\b\b\b\b\b\b\b\b\b\b\b\b\b\b\b\b\b\b\b\b\b\b\b\b\b\b\b\b\b\b\b\b\b\b\b\b\b\b\b\b\b\b\b\b\b\b\b\b\b\b\b\b\b\b\b\b\b\b\b\b\b\b\b\b\b\b\b\b\b\b\b\b\b\b\b\b\b\b\b\b\b\b\b\b\b\b\b\b\b\b\b\b\b\b\b\b\b\b\b\b\b\b\b\b\b\b\b\b\b\b\b\b\b\b\b\b\b\b\b\b\b\b\b\b\b\b\b\b\b\b\b\b\b\b\b\b\b\b\b\b\b\b\b\b\b\b\b\b\b\b\b\b\b\b\b\b\b\b\b\b\b\b\b\b\b\b\b\b\b\b\b\b\b\b\b\b\b\b\b\b\b\b\b\b\b\b\b\b\b\b\b\b\b\b\b\b\b\b\b\b\b\b\b\b\b\b\b\b\b\b\b\b\b\b\b\b\b\b\b\b\b\b\b\b\b\b\b\b\b\b\b\b\b\b\b\b\b\b\b\b\b\b\b\b\b\b\b\b\b\b\b\b\b\b\b\b\b\b\b\b\b\b\b\b\b\b\b\b\b\b\b\b\b\b\b\b\b\b\b\b\b\b\b\b\b\b\b\b\b\b\b\b\b\b\b\b\b\b\b\b\b\b\b\b\b\b\b\b\b\b\b\b\b\b\b\b\b\b\b\b\b\b\b\b\b\b\b\b\b\b\b\b\b\b\b\b\b\b\b\b\b\b\b\b\b\b\b\b\b\b\b\b\b\b\b\b\b\b\b\b\b\b\b\b\b\b\b\b\b\b\b\b\b\b\b\b\b\b\b\b\b\b\b\b\b\b\b\b\b\b\b\b\b\b\b\b\b\b\b\b\b\b\b\b\b\b\b\b\b\b\b\b\b\b\b\b\b\b\b\b\b\b\b\b\b\b\b\b\b\b\b\b\b\b\b\b\b\b\b\b\b\b\b\b\b\b\b\b\b\b\b\b\b\b\b\b\b\b\b\b\b\b\b\b\b\b\b\b\b\b\b\b\b\b\b\b\b\b\b\b\b\b\b\b\b\b\b\b\b\b\b\b\b\b\b\b\b\b\b\b\b\b\b\b\b\b\b\b\b\b\b\b\b\b\b\b\b\b\b\b\b\b\b\b\b\b\b\b\b\b\b\b\b\b\b\b\b\b\b\b\b\b\b\b\b\b\b\b\b\b\b\b\b\b\b\b\b\b\b\b\b\b\b\b\b\b\b\b\b\b\b\b\b\b\b\b\b\b\b\b\b\b\b\b\b\b\b\b\b\b\b\b\b\b\b\b\b\b\b\b\b\b\b\b\b\b\b\b\b\b\b\b\b\b\b\b\b\b\b"
     ]
    }
   ],
   "source": [
    "from keras.optimizers import SGD, RMSprop, Adadelta, Adagrad, Adam\n",
    "import time\n",
    "\n",
    "for city in mycities:\n",
    "    # split into test & train\n",
    "    train_csv= \"%s-train.csv\"%city\n",
    "    test_csv = \"%s-test.csv\"%city\n",
    "    \n",
    "    for crop in crop_vec:\n",
    "\n",
    "        # load data, set up classes\n",
    "        my_files_df = files_df[files_df['city']==city]\n",
    "        save_prefix = \"%s_%dm\"%(city, int(round(crop*1.19)))\n",
    "\n",
    "        # define test & train generators\n",
    "\n",
    "        train_generator = ku.generator_from_file(train_csv, \\\n",
    "                                          image_generator=train_augmenter, \\\n",
    "                                          class_dict = class2label,\\\n",
    "                                          balance = 1,\n",
    "                                          crop=crop,\n",
    "                                          #downsample=2,\n",
    "                                          new_img_shape=(224,224), \n",
    "                                          batch_size=BATCH_SIZE)\n",
    "        test_generator  = ku.generator_from_file(test_csv, \\\n",
    "                                              image_generator=test_augmenter, \\\n",
    "                                              balance = 1,\n",
    "                                              crop=crop,\n",
    "                                              #downsample=2,\n",
    "                                              class_dict = class2label,\\\n",
    "                                              new_img_shape=(224,224), \n",
    "                                              batch_size=BATCH_SIZE)\n",
    "        # set up model\n",
    "        K.clear_session()\n",
    "        model = setup_resnet50(N_CLASSES, model_file_resnet50)    \n",
    "\n",
    "        # train using initial weights, only train top layer for a smaller number of epochs\n",
    "        # this is because the random initialization might propagate errors down the network\n",
    "        print \"%s | training top layer\" % (save_prefix) \n",
    "        best_acc1, best_checkpoint = train_cycle(model, train_generator, test_generator, fix_base=True, nb_epochs=20,\\\n",
    "                                                save_prefix=\"%s-urbanatlas-%s\"%(\"resnet50\", save_prefix))\n",
    "        clear_output(wait=True)\n",
    "        K.clear_session()\n",
    "\n",
    "        # further train all layers in the network\n",
    "        print \"%s | training all layers\" % (save_prefix) \n",
    "        model = keras.models.load_model(best_checkpoint)\n",
    "        best_acc2, best_checkpoint = train_cycle(model, train_generator, test_generator, fix_base=False, \\\n",
    "                                                save_prefix=\"%s-urbanatlas-%s\"%(\"resnet50\", save_prefix))        \n",
    "        clear_output(wait=True)\n",
    "        K.clear_session()\n",
    "\n",
    "        # further train all layers in the network starting from best checkpoint\n",
    "        # looks like this improves the accuracy slightly in experiments\n",
    "        print \"%s | further training\" % (save_prefix) \n",
    "        model = keras.models.load_model(best_checkpoint)\n",
    "        best_acc3, best_checkpoint = train_cycle(model, train_generator, test_generator, fix_base=False, nb_epochs=10,\\\n",
    "                                                save_prefix=\"%s-urbanatlas-%s\"%(\"resnet50\", save_prefix))\n",
    "        clear_output(wait=True)\n",
    "        K.clear_session()        \n"
   ]
  },
  {
   "cell_type": "code",
   "execution_count": null,
   "metadata": {
    "collapsed": true
   },
   "outputs": [],
   "source": []
  }
 ],
 "metadata": {
  "kernelspec": {
   "display_name": "Python 3",
   "language": "python",
   "name": "python3"
  },
  "language_info": {
   "codemirror_mode": {
    "name": "ipython",
    "version": 3
   },
   "file_extension": ".py",
   "mimetype": "text/x-python",
   "name": "python",
   "nbconvert_exporter": "python",
   "pygments_lexer": "ipython3",
   "version": "3.6.4"
  }
 },
 "nbformat": 4,
 "nbformat_minor": 2
}
